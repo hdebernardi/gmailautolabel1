{
 "cells": [
  {
   "cell_type": "markdown",
   "metadata": {},
   "source": [
    "# import librairies"
   ]
  },
  {
   "cell_type": "code",
   "execution_count": 29,
   "metadata": {},
   "outputs": [],
   "source": [
    "import pandas as pd\n",
    "import numpy as np\n",
    "import matplotlib.pyplot as plt\n",
    "from sklearn.model_selection import train_test_split\n",
    "from sklearn.feature_extraction.text import TfidfVectorizer\n",
    "from sklearn.linear_model import LogisticRegression\n",
    "from sklearn.metrics import confusion_matrix, precision_score\n",
    "from sklearn.ensemble import RandomForestClassifier\n",
    "from sklearn.metrics import f1_score"
   ]
  },
  {
   "cell_type": "markdown",
   "metadata": {},
   "source": [
    "# import mails from csv files"
   ]
  },
  {
   "cell_type": "code",
   "execution_count": 30,
   "metadata": {},
   "outputs": [],
   "source": [
    "#!python ../launcher.py\n",
    "\n",
    "filename1 = \"../../data/m1.autolabel1@gmail.com.csv\"\n",
    "filename2 = \"../../data/hippode@hotmail.fr.csv\"\n",
    "filename3 = \"../../data/contact@hippolyte-debernardi.com.csv\"\n",
    "filename4 = \"../../data/chucknorrism1luminy@gmail.com.csv\"\n",
    "\n",
    "df = pd.read_csv(filename4, sep=\",\", engine=\"python\", header=0)"
   ]
  },
  {
   "cell_type": "markdown",
   "metadata": {},
   "source": [
    "# show first matrix lines"
   ]
  },
  {
   "cell_type": "code",
   "execution_count": 31,
   "metadata": {},
   "outputs": [],
   "source": [
    "#np.transpose(df.head())"
   ]
  },
  {
   "cell_type": "markdown",
   "metadata": {},
   "source": [
    "# split train_test"
   ]
  },
  {
   "cell_type": "code",
   "execution_count": 32,
   "metadata": {},
   "outputs": [
    {
     "name": "stdout",
     "output_type": "stream",
     "text": [
      "X : (341, 204)\n",
      "Y : (341, 1)\n",
      "X_train : (238, 204)\n",
      "X_test : (103, 204)\n",
      "y_train : (238, 1)\n",
      "y_test : (103, 1)\n"
     ]
    }
   ],
   "source": [
    "X = df.drop(['Folder'], axis=1)\n",
    "y = pd.DataFrame(df['Folder'])\n",
    "\n",
    "test_size = 0.30\n",
    "X_train, X_test, y_train, y_test = train_test_split(X, y, test_size=test_size, random_state=42)\n",
    "\n",
    "print('X : {}\\nY : {}'.format(X.shape, y.shape))\n",
    "print('X_train : {}\\nX_test : {}\\ny_train : {}\\ny_test : {}'.format(\n",
    "    X_train.shape, X_test.shape, y_train.shape, y_test.shape))"
   ]
  },
  {
   "cell_type": "markdown",
   "metadata": {},
   "source": [
    "# TF-IDF vectorizer"
   ]
  },
  {
   "cell_type": "code",
   "execution_count": 33,
   "metadata": {},
   "outputs": [
    {
     "name": "stdout",
     "output_type": "stream",
     "text": [
      "X_train_vec (238, 3830)\n",
      "X_test_vec (103, 3830)\n"
     ]
    }
   ],
   "source": [
    "vectorizer = TfidfVectorizer(analyzer=\"word\")\n",
    "X_train_vec = vectorizer.fit_transform(X_train['Body'])\n",
    "X_train_vec = pd.DataFrame(X_train_vec.todense(), columns=vectorizer.get_feature_names())\n",
    "\n",
    "X_test_vec = vectorizer.transform(X_test['Body'])\n",
    "X_test_vec = pd.DataFrame(X_test_vec.todense(), columns=vectorizer.get_feature_names())\n",
    "X_test_vec.shape\n",
    "\n",
    "print('X_train_vec {}\\nX_test_vec {}'.format(X_train_vec.shape, X_test_vec.shape))"
   ]
  },
  {
   "cell_type": "markdown",
   "metadata": {},
   "source": [
    "# Logistic regression"
   ]
  },
  {
   "cell_type": "code",
   "execution_count": 34,
   "metadata": {},
   "outputs": [
    {
     "name": "stderr",
     "output_type": "stream",
     "text": [
      "/home/hippolyte/Programmes/anaconda3/lib/python3.7/site-packages/sklearn/utils/validation.py:578: DataConversionWarning: A column-vector y was passed when a 1d array was expected. Please change the shape of y to (n_samples, ), for example using ravel().\n",
      "  y = column_or_1d(y, warn=True)\n"
     ]
    },
    {
     "data": {
      "text/plain": [
       "LogisticRegression(C=1.0, class_weight='balanced', dual=False,\n",
       "          fit_intercept=True, intercept_scaling=1, max_iter=100,\n",
       "          multi_class='ovr', n_jobs=1, penalty='l2', random_state=None,\n",
       "          solver='liblinear', tol=0.0001, verbose=0, warm_start=False)"
      ]
     },
     "execution_count": 34,
     "metadata": {},
     "output_type": "execute_result"
    }
   ],
   "source": [
    "classifier = LogisticRegression(class_weight='balanced')\n",
    "#y_train = np.ravel(y_train)\n",
    "classifier.fit(X_train_vec, y_train)"
   ]
  },
  {
   "cell_type": "code",
   "execution_count": 38,
   "metadata": {},
   "outputs": [
    {
     "name": "stderr",
     "output_type": "stream",
     "text": [
      "/home/hippolyte/Programmes/anaconda3/lib/python3.7/site-packages/sklearn/metrics/classification.py:1135: UndefinedMetricWarning: F-score is ill-defined and being set to 0.0 in labels with no predicted samples.\n",
      "  'precision', 'predicted', average, warn_for)\n"
     ]
    },
    {
     "data": {
      "text/plain": [
       "0.7691567179456453"
      ]
     },
     "execution_count": 38,
     "metadata": {},
     "output_type": "execute_result"
    }
   ],
   "source": [
    "predicts = classifier.predict(X_test_vec)\n",
    "f1_score(y_test, predicts, average='macro')"
   ]
  },
  {
   "cell_type": "code",
   "execution_count": 39,
   "metadata": {},
   "outputs": [
    {
     "data": {
      "text/plain": [
       "(238, 1)"
      ]
     },
     "execution_count": 39,
     "metadata": {},
     "output_type": "execute_result"
    }
   ],
   "source": [
    "X_test.shape\n",
    "y_test.shape\n",
    "\n",
    "y_train.shape"
   ]
  },
  {
   "cell_type": "markdown",
   "metadata": {},
   "source": [
    "# Random forest"
   ]
  },
  {
   "cell_type": "code",
   "execution_count": 40,
   "metadata": {},
   "outputs": [
    {
     "name": "stderr",
     "output_type": "stream",
     "text": [
      "/home/hippolyte/Programmes/anaconda3/lib/python3.7/site-packages/ipykernel_launcher.py:3: DataConversionWarning: A column-vector y was passed when a 1d array was expected. Please change the shape of y to (n_samples,), for example using ravel().\n",
      "  This is separate from the ipykernel package so we can avoid doing imports until\n"
     ]
    },
    {
     "name": "stdout",
     "output_type": "stream",
     "text": [
      "Taux de bonne classification : 0.864078\n",
      "F-score global : 0.864078 \n",
      "F-score global (déséquilibré) : 0.746166 \n"
     ]
    },
    {
     "name": "stderr",
     "output_type": "stream",
     "text": [
      "/home/hippolyte/Programmes/anaconda3/lib/python3.7/site-packages/sklearn/metrics/classification.py:1135: UndefinedMetricWarning: F-score is ill-defined and being set to 0.0 in labels with no predicted samples.\n",
      "  'precision', 'predicted', average, warn_for)\n"
     ]
    },
    {
     "data": {
      "text/plain": [
       "array([0.85714286, 1.        , 1.        , 1.        , 0.44444444,\n",
       "       0.57142857, 1.        , 0.        , 0.4       , 0.90909091,\n",
       "       1.        , 0.84210526, 0.72727273, 0.        , 0.93333333,\n",
       "       1.        , 1.        ])"
      ]
     },
     "execution_count": 40,
     "metadata": {},
     "output_type": "execute_result"
    }
   ],
   "source": [
    "### RANDOMFORESTCLASSIFIER\n",
    "rf_clf = RandomForestClassifier(n_estimators=200)\n",
    "rf_clf.fit(X_train_vec, y_train)\n",
    "\n",
    "print(\"Taux de bonne classification : %f\" %rf_clf.score(X_test_vec, y_test))\n",
    "# Calcul du F-score\n",
    "y_predits = rf_clf.predict(X_test_vec)\n",
    "print(\"F-score global : %f \" %f1_score(y_test, y_predits, average='micro'))\n",
    "print(\"F-score global (déséquilibré) : %f \" %f1_score(y_test, y_predits, average='macro'))\n",
    "F_scores = f1_score(y_test, y_predits, average=None)\n",
    "F_scores"
   ]
  },
  {
   "cell_type": "code",
   "execution_count": null,
   "metadata": {},
   "outputs": [],
   "source": [
    "#np.column_stack((X_test['Message-ID'], predicts))"
   ]
  },
  {
   "cell_type": "code",
   "execution_count": null,
   "metadata": {},
   "outputs": [],
   "source": []
  },
  {
   "cell_type": "code",
   "execution_count": null,
   "metadata": {},
   "outputs": [],
   "source": []
  }
 ],
 "metadata": {
  "kernelspec": {
   "display_name": "Python 3",
   "language": "python",
   "name": "python3"
  },
  "language_info": {
   "codemirror_mode": {
    "name": "ipython",
    "version": 3
   },
   "file_extension": ".py",
   "mimetype": "text/x-python",
   "name": "python",
   "nbconvert_exporter": "python",
   "pygments_lexer": "ipython3",
   "version": "3.7.0"
  }
 },
 "nbformat": 4,
 "nbformat_minor": 2
}
