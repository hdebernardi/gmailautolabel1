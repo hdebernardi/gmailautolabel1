{
 "cells": [
  {
   "cell_type": "markdown",
   "metadata": {},
   "source": [
    "# import librairies"
   ]
  },
  {
   "cell_type": "code",
   "execution_count": 1,
   "metadata": {},
   "outputs": [
    {
     "name": "stderr",
     "output_type": "stream",
     "text": [
      "/home/hippolyte/Programmes/anaconda3/lib/python3.7/site-packages/sklearn/ensemble/weight_boosting.py:29: DeprecationWarning: numpy.core.umath_tests is an internal NumPy module and should not be imported. It will be removed in a future NumPy release.\n",
      "  from numpy.core.umath_tests import inner1d\n"
     ]
    }
   ],
   "source": [
    "import pandas as pd\n",
    "import numpy as np\n",
    "import matplotlib.pyplot as plt\n",
    "from sklearn.model_selection import train_test_split\n",
    "from sklearn.feature_extraction.text import TfidfVectorizer\n",
    "from sklearn.linear_model import LogisticRegression\n",
    "from sklearn.metrics import confusion_matrix, precision_score\n",
    "from sklearn.ensemble import RandomForestClassifier\n",
    "from sklearn.metrics import f1_score"
   ]
  },
  {
   "cell_type": "markdown",
   "metadata": {},
   "source": [
    "# import mails from csv files"
   ]
  },
  {
   "cell_type": "code",
   "execution_count": 4,
   "metadata": {},
   "outputs": [],
   "source": [
    "#!python ../mail_extractor.py\n",
    "\n",
    "filename_labelise = \"../../data/LABELISED_chucknorrism1luminy@gmail.com.csv\"\n",
    "filename_non_labelise = \"../../data/UNLABELISED_chucknorrism1luminy@gmail.com.csv\"\n",
    "\n",
    "df = pd.read_csv(filename_labelise, sep=\",\", engine=\"python\", header=0)\n",
    "df2 = pd.read_csv(filename_non_labelise, sep=\",\", engine='python', header=0)"
   ]
  },
  {
   "cell_type": "markdown",
   "metadata": {},
   "source": [
    "# show first matrix lines"
   ]
  },
  {
   "cell_type": "code",
   "execution_count": 7,
   "metadata": {},
   "outputs": [],
   "source": [
    "#np.transpose(df.head())"
   ]
  },
  {
   "cell_type": "markdown",
   "metadata": {},
   "source": [
    "# split train_test"
   ]
  },
  {
   "cell_type": "code",
   "execution_count": 8,
   "metadata": {},
   "outputs": [
    {
     "ename": "KeyError",
     "evalue": "\"['Folder'] not found in axis\"",
     "output_type": "error",
     "traceback": [
      "\u001b[0;31m---------------------------------------------------------------------------\u001b[0m",
      "\u001b[0;31mKeyError\u001b[0m                                  Traceback (most recent call last)",
      "\u001b[0;32m<ipython-input-8-56e249bac098>\u001b[0m in \u001b[0;36m<module>\u001b[0;34m()\u001b[0m\n\u001b[0;32m----> 1\u001b[0;31m \u001b[0mX\u001b[0m \u001b[0;34m=\u001b[0m \u001b[0mdf\u001b[0m\u001b[0;34m.\u001b[0m\u001b[0mdrop\u001b[0m\u001b[0;34m(\u001b[0m\u001b[0;34m[\u001b[0m\u001b[0;34m'Folder'\u001b[0m\u001b[0;34m]\u001b[0m\u001b[0;34m,\u001b[0m \u001b[0maxis\u001b[0m\u001b[0;34m=\u001b[0m\u001b[0;36m1\u001b[0m\u001b[0;34m)\u001b[0m\u001b[0;34m\u001b[0m\u001b[0m\n\u001b[0m\u001b[1;32m      2\u001b[0m \u001b[0my\u001b[0m \u001b[0;34m=\u001b[0m \u001b[0mpd\u001b[0m\u001b[0;34m.\u001b[0m\u001b[0mDataFrame\u001b[0m\u001b[0;34m(\u001b[0m\u001b[0mdf\u001b[0m\u001b[0;34m[\u001b[0m\u001b[0;34m'Folder'\u001b[0m\u001b[0;34m]\u001b[0m\u001b[0;34m)\u001b[0m\u001b[0;34m\u001b[0m\u001b[0m\n\u001b[1;32m      3\u001b[0m \u001b[0;34m\u001b[0m\u001b[0m\n\u001b[1;32m      4\u001b[0m \u001b[0mtest_size\u001b[0m \u001b[0;34m=\u001b[0m \u001b[0;36m0.30\u001b[0m\u001b[0;34m\u001b[0m\u001b[0m\n\u001b[1;32m      5\u001b[0m \u001b[0mX_train\u001b[0m\u001b[0;34m,\u001b[0m \u001b[0mX_test\u001b[0m\u001b[0;34m,\u001b[0m \u001b[0my_train\u001b[0m\u001b[0;34m,\u001b[0m \u001b[0my_test\u001b[0m \u001b[0;34m=\u001b[0m \u001b[0mtrain_test_split\u001b[0m\u001b[0;34m(\u001b[0m\u001b[0mX\u001b[0m\u001b[0;34m,\u001b[0m \u001b[0my\u001b[0m\u001b[0;34m,\u001b[0m \u001b[0mtest_size\u001b[0m\u001b[0;34m=\u001b[0m\u001b[0mtest_size\u001b[0m\u001b[0;34m,\u001b[0m \u001b[0mrandom_state\u001b[0m\u001b[0;34m=\u001b[0m\u001b[0;36m42\u001b[0m\u001b[0;34m)\u001b[0m\u001b[0;34m\u001b[0m\u001b[0m\n",
      "\u001b[0;32m~/Programmes/anaconda3/lib/python3.7/site-packages/pandas/core/frame.py\u001b[0m in \u001b[0;36mdrop\u001b[0;34m(self, labels, axis, index, columns, level, inplace, errors)\u001b[0m\n\u001b[1;32m   3695\u001b[0m                                            \u001b[0mindex\u001b[0m\u001b[0;34m=\u001b[0m\u001b[0mindex\u001b[0m\u001b[0;34m,\u001b[0m \u001b[0mcolumns\u001b[0m\u001b[0;34m=\u001b[0m\u001b[0mcolumns\u001b[0m\u001b[0;34m,\u001b[0m\u001b[0;34m\u001b[0m\u001b[0m\n\u001b[1;32m   3696\u001b[0m                                            \u001b[0mlevel\u001b[0m\u001b[0;34m=\u001b[0m\u001b[0mlevel\u001b[0m\u001b[0;34m,\u001b[0m \u001b[0minplace\u001b[0m\u001b[0;34m=\u001b[0m\u001b[0minplace\u001b[0m\u001b[0;34m,\u001b[0m\u001b[0;34m\u001b[0m\u001b[0m\n\u001b[0;32m-> 3697\u001b[0;31m                                            errors=errors)\n\u001b[0m\u001b[1;32m   3698\u001b[0m \u001b[0;34m\u001b[0m\u001b[0m\n\u001b[1;32m   3699\u001b[0m     @rewrite_axis_style_signature('mapper', [('copy', True),\n",
      "\u001b[0;32m~/Programmes/anaconda3/lib/python3.7/site-packages/pandas/core/generic.py\u001b[0m in \u001b[0;36mdrop\u001b[0;34m(self, labels, axis, index, columns, level, inplace, errors)\u001b[0m\n\u001b[1;32m   3109\u001b[0m         \u001b[0;32mfor\u001b[0m \u001b[0maxis\u001b[0m\u001b[0;34m,\u001b[0m \u001b[0mlabels\u001b[0m \u001b[0;32min\u001b[0m \u001b[0maxes\u001b[0m\u001b[0;34m.\u001b[0m\u001b[0mitems\u001b[0m\u001b[0;34m(\u001b[0m\u001b[0;34m)\u001b[0m\u001b[0;34m:\u001b[0m\u001b[0;34m\u001b[0m\u001b[0m\n\u001b[1;32m   3110\u001b[0m             \u001b[0;32mif\u001b[0m \u001b[0mlabels\u001b[0m \u001b[0;32mis\u001b[0m \u001b[0;32mnot\u001b[0m \u001b[0;32mNone\u001b[0m\u001b[0;34m:\u001b[0m\u001b[0;34m\u001b[0m\u001b[0m\n\u001b[0;32m-> 3111\u001b[0;31m                 \u001b[0mobj\u001b[0m \u001b[0;34m=\u001b[0m \u001b[0mobj\u001b[0m\u001b[0;34m.\u001b[0m\u001b[0m_drop_axis\u001b[0m\u001b[0;34m(\u001b[0m\u001b[0mlabels\u001b[0m\u001b[0;34m,\u001b[0m \u001b[0maxis\u001b[0m\u001b[0;34m,\u001b[0m \u001b[0mlevel\u001b[0m\u001b[0;34m=\u001b[0m\u001b[0mlevel\u001b[0m\u001b[0;34m,\u001b[0m \u001b[0merrors\u001b[0m\u001b[0;34m=\u001b[0m\u001b[0merrors\u001b[0m\u001b[0;34m)\u001b[0m\u001b[0;34m\u001b[0m\u001b[0m\n\u001b[0m\u001b[1;32m   3112\u001b[0m \u001b[0;34m\u001b[0m\u001b[0m\n\u001b[1;32m   3113\u001b[0m         \u001b[0;32mif\u001b[0m \u001b[0minplace\u001b[0m\u001b[0;34m:\u001b[0m\u001b[0;34m\u001b[0m\u001b[0m\n",
      "\u001b[0;32m~/Programmes/anaconda3/lib/python3.7/site-packages/pandas/core/generic.py\u001b[0m in \u001b[0;36m_drop_axis\u001b[0;34m(self, labels, axis, level, errors)\u001b[0m\n\u001b[1;32m   3141\u001b[0m                 \u001b[0mnew_axis\u001b[0m \u001b[0;34m=\u001b[0m \u001b[0maxis\u001b[0m\u001b[0;34m.\u001b[0m\u001b[0mdrop\u001b[0m\u001b[0;34m(\u001b[0m\u001b[0mlabels\u001b[0m\u001b[0;34m,\u001b[0m \u001b[0mlevel\u001b[0m\u001b[0;34m=\u001b[0m\u001b[0mlevel\u001b[0m\u001b[0;34m,\u001b[0m \u001b[0merrors\u001b[0m\u001b[0;34m=\u001b[0m\u001b[0merrors\u001b[0m\u001b[0;34m)\u001b[0m\u001b[0;34m\u001b[0m\u001b[0m\n\u001b[1;32m   3142\u001b[0m             \u001b[0;32melse\u001b[0m\u001b[0;34m:\u001b[0m\u001b[0;34m\u001b[0m\u001b[0m\n\u001b[0;32m-> 3143\u001b[0;31m                 \u001b[0mnew_axis\u001b[0m \u001b[0;34m=\u001b[0m \u001b[0maxis\u001b[0m\u001b[0;34m.\u001b[0m\u001b[0mdrop\u001b[0m\u001b[0;34m(\u001b[0m\u001b[0mlabels\u001b[0m\u001b[0;34m,\u001b[0m \u001b[0merrors\u001b[0m\u001b[0;34m=\u001b[0m\u001b[0merrors\u001b[0m\u001b[0;34m)\u001b[0m\u001b[0;34m\u001b[0m\u001b[0m\n\u001b[0m\u001b[1;32m   3144\u001b[0m             \u001b[0mresult\u001b[0m \u001b[0;34m=\u001b[0m \u001b[0mself\u001b[0m\u001b[0;34m.\u001b[0m\u001b[0mreindex\u001b[0m\u001b[0;34m(\u001b[0m\u001b[0;34m**\u001b[0m\u001b[0;34m{\u001b[0m\u001b[0maxis_name\u001b[0m\u001b[0;34m:\u001b[0m \u001b[0mnew_axis\u001b[0m\u001b[0;34m}\u001b[0m\u001b[0;34m)\u001b[0m\u001b[0;34m\u001b[0m\u001b[0m\n\u001b[1;32m   3145\u001b[0m \u001b[0;34m\u001b[0m\u001b[0m\n",
      "\u001b[0;32m~/Programmes/anaconda3/lib/python3.7/site-packages/pandas/core/indexes/base.py\u001b[0m in \u001b[0;36mdrop\u001b[0;34m(self, labels, errors)\u001b[0m\n\u001b[1;32m   4402\u001b[0m             \u001b[0;32mif\u001b[0m \u001b[0merrors\u001b[0m \u001b[0;34m!=\u001b[0m \u001b[0;34m'ignore'\u001b[0m\u001b[0;34m:\u001b[0m\u001b[0;34m\u001b[0m\u001b[0m\n\u001b[1;32m   4403\u001b[0m                 raise KeyError(\n\u001b[0;32m-> 4404\u001b[0;31m                     '{} not found in axis'.format(labels[mask]))\n\u001b[0m\u001b[1;32m   4405\u001b[0m             \u001b[0mindexer\u001b[0m \u001b[0;34m=\u001b[0m \u001b[0mindexer\u001b[0m\u001b[0;34m[\u001b[0m\u001b[0;34m~\u001b[0m\u001b[0mmask\u001b[0m\u001b[0;34m]\u001b[0m\u001b[0;34m\u001b[0m\u001b[0m\n\u001b[1;32m   4406\u001b[0m         \u001b[0;32mreturn\u001b[0m \u001b[0mself\u001b[0m\u001b[0;34m.\u001b[0m\u001b[0mdelete\u001b[0m\u001b[0;34m(\u001b[0m\u001b[0mindexer\u001b[0m\u001b[0;34m)\u001b[0m\u001b[0;34m\u001b[0m\u001b[0m\n",
      "\u001b[0;31mKeyError\u001b[0m: \"['Folder'] not found in axis\""
     ]
    }
   ],
   "source": [
    "X = df.drop(['folder'], axis=1)\n",
    "y = pd.DataFrame(df['folder'])\n",
    "\n",
    "test_size = 0.30\n",
    "X_train, X_test, y_train, y_test = train_test_split(X, y, test_size=test_size, random_state=42)\n",
    "\n",
    "print('X : {}\\nY : {}'.format(X.shape, y.shape))\n",
    "print('X_train : {}\\nX_test : {}\\ny_train : {}\\ny_test : {}'.format(\n",
    "    X_train.shape, X_test.shape, y_train.shape, y_test.shape))"
   ]
  },
  {
   "cell_type": "markdown",
   "metadata": {},
   "source": [
    "# TF-IDF vectorizer"
   ]
  },
  {
   "cell_type": "code",
   "execution_count": 5,
   "metadata": {},
   "outputs": [
    {
     "name": "stdout",
     "output_type": "stream",
     "text": [
      "X_train_vec (296, 3961)\n",
      "X_test_vec (127, 3961)\n"
     ]
    }
   ],
   "source": [
    "vectorizer = TfidfVectorizer(analyzer=\"word\")\n",
    "X_train_vec = vectorizer.fit_transform(X_train['Body'])\n",
    "X_train_vec = pd.DataFrame(X_train_vec.todense(), columns=vectorizer.get_feature_names())\n",
    "\n",
    "X_test_vec = vectorizer.transform(X_test['Body'])\n",
    "X_test_vec = pd.DataFrame(X_test_vec.todense(), columns=vectorizer.get_feature_names())\n",
    "X_test_vec.shape\n",
    "\n",
    "print('X_train_vec {}\\nX_test_vec {}'.format(X_train_vec.shape, X_test_vec.shape))"
   ]
  },
  {
   "cell_type": "markdown",
   "metadata": {},
   "source": [
    "# Logistic regression"
   ]
  },
  {
   "cell_type": "code",
   "execution_count": 6,
   "metadata": {},
   "outputs": [
    {
     "name": "stderr",
     "output_type": "stream",
     "text": [
      "/home/hippolyte/Programmes/anaconda3/lib/python3.7/site-packages/sklearn/utils/validation.py:578: DataConversionWarning: A column-vector y was passed when a 1d array was expected. Please change the shape of y to (n_samples, ), for example using ravel().\n",
      "  y = column_or_1d(y, warn=True)\n"
     ]
    },
    {
     "data": {
      "text/plain": [
       "LogisticRegression(C=1.0, class_weight='balanced', dual=False,\n",
       "          fit_intercept=True, intercept_scaling=1, max_iter=100,\n",
       "          multi_class='ovr', n_jobs=1, penalty='l2', random_state=None,\n",
       "          solver='liblinear', tol=0.0001, verbose=0, warm_start=False)"
      ]
     },
     "execution_count": 6,
     "metadata": {},
     "output_type": "execute_result"
    }
   ],
   "source": [
    "classifier = LogisticRegression(class_weight='balanced')\n",
    "#y_train = np.ravel(y_train)\n",
    "classifier.fit(X_train_vec, y_train)"
   ]
  },
  {
   "cell_type": "code",
   "execution_count": 7,
   "metadata": {},
   "outputs": [
    {
     "name": "stderr",
     "output_type": "stream",
     "text": [
      "/home/hippolyte/Programmes/anaconda3/lib/python3.7/site-packages/sklearn/metrics/classification.py:1135: UndefinedMetricWarning: F-score is ill-defined and being set to 0.0 in labels with no predicted samples.\n",
      "  'precision', 'predicted', average, warn_for)\n",
      "/home/hippolyte/Programmes/anaconda3/lib/python3.7/site-packages/sklearn/metrics/classification.py:1137: UndefinedMetricWarning: F-score is ill-defined and being set to 0.0 in labels with no true samples.\n",
      "  'recall', 'true', average, warn_for)\n"
     ]
    },
    {
     "data": {
      "text/plain": [
       "0.7070533684429194"
      ]
     },
     "execution_count": 7,
     "metadata": {},
     "output_type": "execute_result"
    }
   ],
   "source": [
    "predicts = classifier.predict(X_test_vec)\n",
    "f1_score(y_test, predicts, average='macro')"
   ]
  },
  {
   "cell_type": "code",
   "execution_count": 8,
   "metadata": {},
   "outputs": [
    {
     "data": {
      "text/plain": [
       "(296, 1)"
      ]
     },
     "execution_count": 8,
     "metadata": {},
     "output_type": "execute_result"
    }
   ],
   "source": [
    "X_test.shape\n",
    "y_test.shape\n",
    "\n",
    "y_train.shape"
   ]
  },
  {
   "cell_type": "markdown",
   "metadata": {},
   "source": [
    "# Random forest"
   ]
  },
  {
   "cell_type": "code",
   "execution_count": 9,
   "metadata": {},
   "outputs": [
    {
     "name": "stderr",
     "output_type": "stream",
     "text": [
      "/home/hippolyte/Programmes/anaconda3/lib/python3.7/site-packages/ipykernel_launcher.py:3: DataConversionWarning: A column-vector y was passed when a 1d array was expected. Please change the shape of y to (n_samples,), for example using ravel().\n",
      "  This is separate from the ipykernel package so we can avoid doing imports until\n"
     ]
    },
    {
     "name": "stdout",
     "output_type": "stream",
     "text": [
      "Taux de bonne classification : 0.669291\n",
      "F-score global : 0.669291 \n",
      "F-score global (déséquilibré) : 0.705160 \n"
     ]
    },
    {
     "name": "stderr",
     "output_type": "stream",
     "text": [
      "/home/hippolyte/Programmes/anaconda3/lib/python3.7/site-packages/sklearn/metrics/classification.py:1135: UndefinedMetricWarning: F-score is ill-defined and being set to 0.0 in labels with no predicted samples.\n",
      "  'precision', 'predicted', average, warn_for)\n"
     ]
    },
    {
     "data": {
      "text/plain": [
       "array([1.        , 0.85714286, 1.        , 1.        , 1.        ,\n",
       "       0.33333333, 0.75      , 0.48275862, 1.        , 1.        ,\n",
       "       0.8       , 0.        , 0.8125    , 0.8       , 0.        ,\n",
       "       0.85714286, 1.        , 0.        ])"
      ]
     },
     "execution_count": 9,
     "metadata": {},
     "output_type": "execute_result"
    }
   ],
   "source": [
    "### RANDOMFORESTCLASSIFIER\n",
    "rf_clf = RandomForestClassifier(n_estimators=200)\n",
    "rf_clf.fit(X_train_vec, y_train)\n",
    "\n",
    "print(\"Taux de bonne classification : %f\" %rf_clf.score(X_test_vec, y_test))\n",
    "# Calcul du F-score\n",
    "y_predits = rf_clf.predict(X_test_vec)\n",
    "print(\"F-score global : %f \" %f1_score(y_test, y_predits, average='micro'))\n",
    "print(\"F-score global (déséquilibré) : %f \" %f1_score(y_test, y_predits, average='macro'))\n",
    "F_scores = f1_score(y_test, y_predits, average=None)\n",
    "F_scores"
   ]
  },
  {
   "cell_type": "code",
   "execution_count": 10,
   "metadata": {},
   "outputs": [
    {
     "data": {
      "text/plain": [
       "array([['<87a059aab5ee3191eb5c165adb7fd129@2d4a6334d2f2bb73c1c106ccaf5b5e83c5a47abe274260dadc6a33286199d452>',\n",
       "        'INBOX'],\n",
       "       ['<20181013092356.ADF14201AF@pbxprwb24>', 'Cryptomonnaies'],\n",
       "       ['<290.7.aa188ace-4703784.4402806@emt>',\n",
       "        'Business/Autoentrepreneur'],\n",
       "       ['<3305775e2d00c25502bccb5a36b77a16@2d4a6334d2f2bb73c1c106ccaf5b5e83c5a47abe274260dadc6a33286199d452>',\n",
       "        'INBOX'],\n",
       "       ['<0d8816afa99ff74a169012c43624b29d@2d4a6334d2f2bb73c1c106ccaf5b5e83c5a47abe274260dadc6a33286199d452>',\n",
       "        'Business/Fb'],\n",
       "       ['<5b101190dfc3d_162b03884a6f58549f4@shopify.com>',\n",
       "        'Cryptomonnaies'],\n",
       "       ['<158618c44c6d812747bdf21b7aff53bb@2d4a6334d2f2bb73c1c106ccaf5b5e83c5a47abe274260dadc6a33286199d452>',\n",
       "        'INBOX'],\n",
       "       ['<d88b9f3946ffd5904319f719ddbda578@2d4a6334d2f2bb73c1c106ccaf5b5e83c5a47abe274260dadc6a33286199d452>',\n",
       "        'INBOX'],\n",
       "       [nan, 'Business/Aliexpress/Expédition'],\n",
       "       ['<B61CE170-FF37-4375-B62A-9812699983FB@juristeassistance.com>',\n",
       "        'Fac/Crous/Bourse'],\n",
       "       ['<5b32fe721bf1e_282b00b65e4f5c110476@shopify.com>',\n",
       "        \"Business/Bag's Success\"],\n",
       "       ['<1845d13244fd88415014b5884cbe7653@2d4a6334d2f2bb73c1c106ccaf5b5e83c5a47abe274260dadc6a33286199d452>',\n",
       "        'Business/Fb'],\n",
       "       ['\\n\\t<HE1PR0602MB27781A705A7948F0723D128B97630@HE1PR0602MB2778.eurprd06.prod.outlook.com>',\n",
       "        'Free'],\n",
       "       ['<43d2ff5746284ecee43e76b612dfaa93@2d4a6334d2f2bb73c1c106ccaf5b5e83c5a47abe274260dadc6a33286199d452>',\n",
       "        'Business/Fb'],\n",
       "       ['<137f2457d2a0b3a4e3ede4e7db4ad51b@2d4a6334d2f2bb73c1c106ccaf5b5e83c5a47abe274260dadc6a33286199d452>',\n",
       "        'INBOX'],\n",
       "       ['<7f2cb49f65a5a189437dbe46d334999f@2d4a6334d2f2bb73c1c106ccaf5b5e83c5a47abe274260dadc6a33286199d452>',\n",
       "        'INBOX'],\n",
       "       ['<HE1PR0602MB2778D56911E3E6E1D58FA57D97C80@HE1PR0602MB2778.eurprd06.prod.outlook.com>',\n",
       "        'Business/1&1'],\n",
       "       ['\\n\\t<HE1PR0602MB27789D97CE257F91AB5331E5975C0@HE1PR0602MB2778.eurprd06.prod.outlook.com>',\n",
       "        'Fac/Crous/Bourse'],\n",
       "       ['<HE1PR0602MB27786A3BE0E7CE84581D6ABB97C80@HE1PR0602MB2778.eurprd06.prod.outlook.com>',\n",
       "        'Cryptomonnaies'],\n",
       "       ['<01000160c22c9f83-96a5f52f-96a3-4b26-9785-615778c6375d-000000@email.amazonses.com>',\n",
       "        'Cryptomonnaies'],\n",
       "       ['<0100016356229319-0f8beb2c-9a88-4ff1-a5af-3b2b67599dfd-000000@email.amazonses.com>',\n",
       "        'Cryptomonnaies'],\n",
       "       ['<NZZK562QOM_5a3bb854554d6_b5c63f857accb9943003c3_sprut@zendesk.com>',\n",
       "        'Cryptomonnaies'],\n",
       "       ['<20160728143828.62399184BB9@smtp2.free-mobile.fr>', 'Free'],\n",
       "       ['<01000160c3459460-85fccfc8-5d3f-434e-9e5d-4f0060d475e6-000000@email.amazonses.com>',\n",
       "        'Cryptomonnaies'],\n",
       "       ['<E1fXaOQ-0000z3-Cm@JSX000AS14>', 'Business/Autoentrepreneur'],\n",
       "       ['<DUB131-W284D85FF9FBC2F1823A32697780@phx.gbl>', 'Free'],\n",
       "       ['<20180612075632.2F84714169E3@cfenetp-outils.cfenet.cci.fr>',\n",
       "        'Business/Autoentrepreneur'],\n",
       "       ['<916520142.1241.1527759204914@ecrins.pj.univ-amu.fr>',\n",
       "        'Fac/Inscription'],\n",
       "       ['<39758692.3.1441007470737.JavaMail.bea@galactica-new.in.ac-paris.fr>',\n",
       "        'Fac/Crous/Bourse'],\n",
       "       ['<c67cba7b905bf42fd89f1e16b9fdca72@2d4a6334d2f2bb73c1c106ccaf5b5e83c5a47abe274260dadc6a33286199d452>',\n",
       "        'Business/Fb'],\n",
       "       ['\\n\\t<HE1PR0602MB2778092599D8F792E4C05D4297A30@HE1PR0602MB2778.eurprd06.prod.outlook.com>',\n",
       "        'Free'],\n",
       "       ['<292ef3a52e56ac876d8f55ccb917546c@2d4a6334d2f2bb73c1c106ccaf5b5e83c5a47abe274260dadc6a33286199d452>',\n",
       "        'Business/Fb'],\n",
       "       ['<HE1PR0602MB2778B221BD441334678F2CC297C80@HE1PR0602MB2778.eurprd06.prod.outlook.com>',\n",
       "        'Cryptomonnaies'],\n",
       "       ['<01000162ea52bf10-4848e1af-0c5b-4781-93b2-9fa41967bdb9-000000@email.amazonses.com>',\n",
       "        'Cryptomonnaies'],\n",
       "       ['<20170130165948.848DE185960@smtp2.free-mobile.fr>', 'Free'],\n",
       "       ['<HE1PR0602MB2778E013CA2CC5D44A5635B697C80@HE1PR0602MB2778.eurprd06.prod.outlook.com>',\n",
       "        'Cryptomonnaies'],\n",
       "       ['<HE1PR0602MB27783D2649122469E0E01FE597C80@HE1PR0602MB2778.eurprd06.prod.outlook.com>',\n",
       "        'Cryptomonnaies'],\n",
       "       [nan, 'Business/Aliexpress/Paiement'],\n",
       "       ['<30663382.1517761508616727871.JavaMail.contact@isilis.fr>',\n",
       "        'Fac/Crous/Bourse'],\n",
       "       ['<056c8ef4d8357d5f98ef0507fc07ff5a@2d4a6334d2f2bb73c1c106ccaf5b5e83c5a47abe274260dadc6a33286199d452>',\n",
       "        'Business/Fb'],\n",
       "       ['<a0b38290166e96a769fe2862fc37ca83@2d4a6334d2f2bb73c1c106ccaf5b5e83c5a47abe274260dadc6a33286199d452>',\n",
       "        'Business/Fb'],\n",
       "       ['<be2139aa73da0637c9764d472266bbfe@2d4a6334d2f2bb73c1c106ccaf5b5e83c5a47abe274260dadc6a33286199d452>',\n",
       "        'Business/Fb'],\n",
       "       ['<e8c2650d4e5e17a3243a341423bd649f@2d4a6334d2f2bb73c1c106ccaf5b5e83c5a47abe274260dadc6a33286199d452>',\n",
       "        'INBOX'],\n",
       "       [nan, 'Business/Aliexpress/Expédition'],\n",
       "       ['<5c565b76173f9b94377ff7f35dfbcab2@2d4a6334d2f2bb73c1c106ccaf5b5e83c5a47abe274260dadc6a33286199d452>',\n",
       "        'INBOX'],\n",
       "       ['<fac88c73e21979dc74de36332277e8d9@2d4a6334d2f2bb73c1c106ccaf5b5e83c5a47abe274260dadc6a33286199d452>',\n",
       "        'Business/Fb'],\n",
       "       ['<5b7ff67e2eec9_272acc211b8f605914e@shopify.com>',\n",
       "        'Business/Le Pays Des Lumières'],\n",
       "       ['<1704505603.9827.1531742030779.JavaMail.apoinst@apo-reins.univ-amu.fr>',\n",
       "        'Fac/Inscription'],\n",
       "       ['<c514bce007f184d0cb1ab4b35d475893@2d4a6334d2f2bb73c1c106ccaf5b5e83c5a47abe274260dadc6a33286199d452>',\n",
       "        'Business/Fb'],\n",
       "       [nan, 'Business/Aliexpress/Paiement'],\n",
       "       ['<c8cbd4f27e2f8276626ad53564e4d266@2d4a6334d2f2bb73c1c106ccaf5b5e83c5a47abe274260dadc6a33286199d452>',\n",
       "        'Business/Fb'],\n",
       "       ['<2015203999.45.1473497590155.JavaMail.bea@galactica-new.in.ac-paris.fr>',\n",
       "        'Fac/Crous/Bourse'],\n",
       "       ['<HE1PR0602MB2778F84F8CBE601BBCA40EEE97C80@HE1PR0602MB2778.eurprd06.prod.outlook.com>',\n",
       "        'Amnesty'],\n",
       "       [nan, 'Business/Aliexpress/Paiement'],\n",
       "       ['<DUB131-W74C3DA75FAF3276EC3E060976B0@phx.gbl>',\n",
       "        'Fac/Crous/Bourse'],\n",
       "       ['<20170327152351.75B50184130@smtp1.free-mobile.fr>', 'Free'],\n",
       "       ['<AM2PR08MB0243115D24E0181AFD85191685E20@AM2PR08MB0243.eurprd08.prod.outlook.com>',\n",
       "        'Fac/Crous/Logement'],\n",
       "       ['<5bc47dedd17d0_5800854ff8773aa@wqueue-ha-si-01-ild2.mail>',\n",
       "        'Business/1&1'],\n",
       "       ['<5f236a88497d15aafc689c7bae97e616@2d4a6334d2f2bb73c1c106ccaf5b5e83c5a47abe274260dadc6a33286199d452>',\n",
       "        'Business/Fb'],\n",
       "       ['<9f3c0cce4086b9314f491880e6b02f68@2d4a6334d2f2bb73c1c106ccaf5b5e83c5a47abe274260dadc6a33286199d452>',\n",
       "        'Business/Fb'],\n",
       "       ['<dbaa0218ba171b501f3cb66962190eef@2d4a6334d2f2bb73c1c106ccaf5b5e83c5a47abe274260dadc6a33286199d452>',\n",
       "        'Business/Fb'],\n",
       "       ['<c12f5b97667f3bf1109ec5d964fb6ef8@2d4a6334d2f2bb73c1c106ccaf5b5e83c5a47abe274260dadc6a33286199d452>',\n",
       "        'INBOX'],\n",
       "       [nan, 'Business/Aliexpress/Recption'],\n",
       "       ['<4f730c145c8a80feaa8788ac4793c0f5@2d4a6334d2f2bb73c1c106ccaf5b5e83c5a47abe274260dadc6a33286199d452>',\n",
       "        'INBOX'],\n",
       "       ['<PMCL-PMCLPUSHLCL-O7CREMAIL1-imix7dwml69gsf@null>',\n",
       "        'Compte/Banque'],\n",
       "       ['<c74c9ac3f61c58641d8cd4649a6b86cd@2d4a6334d2f2bb73c1c106ccaf5b5e83c5a47abe274260dadc6a33286199d452>',\n",
       "        'INBOX'],\n",
       "       ['<20180827201256.E260318459B@smtp2.free-mobile.fr>', 'Free'],\n",
       "       [nan, 'Business/Aliexpress/Paiement'],\n",
       "       ['<PMCL-PMCLPUSHLCL-O7CREMAIL1-ilanyxye-fjogg5@null>',\n",
       "        'Compte/Banque'],\n",
       "       ['<38551503.145.1425082931154.JavaMail.bea@galactica-new.in.ac-paris.fr>',\n",
       "        'Fac/Crous/Bourse'],\n",
       "       ['<e6c7cfb3b6800e128aba944ee3f88a3a@2d4a6334d2f2bb73c1c106ccaf5b5e83c5a47abe274260dadc6a33286199d452>',\n",
       "        'INBOX'],\n",
       "       ['<206708165.2496.1528120777418@ecandidat-web-2>',\n",
       "        'Fac/Inscription'],\n",
       "       ['<30846693.2370.1527769491160@ecrins.pj.univ-amu.fr>',\n",
       "        'Fac/Inscription'],\n",
       "       ['<d88b9f3946ffd5904319f719ddbda578@2d4a6334d2f2bb73c1c106ccaf5b5e83c5a47abe274260dadc6a33286199d452>',\n",
       "        'INBOX'],\n",
       "       [nan, 'Business/Aliexpress/Arrivée'],\n",
       "       [nan, 'Business/Aliexpress/Paiement'],\n",
       "       ['<1edd24cf6d144b5181a465b72f0a7e04@BPMBX2013-01.univ-lyon1.fr>',\n",
       "        'Fac/Inscription'],\n",
       "       ['<059b16f054aae433d35af9c68cfb3bdc@2d4a6334d2f2bb73c1c106ccaf5b5e83c5a47abe274260dadc6a33286199d452>',\n",
       "        'Business/Fb'],\n",
       "       ['<f5f124eaf4067601c3d2baab0a12d497@2d4a6334d2f2bb73c1c106ccaf5b5e83c5a47abe274260dadc6a33286199d452>',\n",
       "        'INBOX'],\n",
       "       ['<cb34e6d46cf95e9502972082e40c132c@2d4a6334d2f2bb73c1c106ccaf5b5e83c5a47abe274260dadc6a33286199d452>',\n",
       "        'Business/Fb'],\n",
       "       ['<20180612075618.60EEB14169E3@cfenetp-outils.cfenet.cci.fr>',\n",
       "        'Fac/Inscription'],\n",
       "       ['<628fa011d4549a8df9986aca212975b4@2d4a6334d2f2bb73c1c106ccaf5b5e83c5a47abe274260dadc6a33286199d452>',\n",
       "        'INBOX'],\n",
       "       [nan, 'Business/Aliexpress/Expédition'],\n",
       "       [nan, 'Business/Aliexpress/Arrivée'],\n",
       "       ['<5b43b70ff14_242ad30f242f5481365@shopify.com>',\n",
       "        \"Business/Bag's Success\"],\n",
       "       ['<d45a2194d55e5cca90d46516492dc5b9@2d4a6334d2f2bb73c1c106ccaf5b5e83c5a47abe274260dadc6a33286199d452>',\n",
       "        'INBOX'],\n",
       "       [nan, 'Business/Aliexpress/Expédition'],\n",
       "       ['<9f79448570a7b0407a96bbd523f084b7@2d4a6334d2f2bb73c1c106ccaf5b5e83c5a47abe274260dadc6a33286199d452>',\n",
       "        'Business/Fb'],\n",
       "       ['<270621032.1196.1529403607344@ecrins.pj.univ-amu.fr>',\n",
       "        'Fac/Inscription'],\n",
       "       ['<eab09f35ed68938d623c3c85ea005582@2d4a6334d2f2bb73c1c106ccaf5b5e83c5a47abe274260dadc6a33286199d452>',\n",
       "        'INBOX'],\n",
       "       ['\\n\\t<DB6PR0602MB2823121F1842315519EC872697340@DB6PR0602MB2823.eurprd06.prod.outlook.com>',\n",
       "        'Free'],\n",
       "       ['<5b8b8bc05c2d4_2b2afb0b6c4f541068f1@shopify.com>',\n",
       "        'Business/Shopify'],\n",
       "       ['<a456816242eb594d4f21b02449ad2cf3@www.messervices.etudiant.gouv.fr>',\n",
       "        'Fac/Crous/Bourse'],\n",
       "       ['<HE1PR0602MB277878CA5E2291C836A3A37597C80@HE1PR0602MB2778.eurprd06.prod.outlook.com>',\n",
       "        'Cryptomonnaies'],\n",
       "       [nan, 'Cryptomonnaies'],\n",
       "       [nan, 'Business/1&1'],\n",
       "       [nan, 'Business/Aliexpress/Paiement'],\n",
       "       ['<20161229160351.1DCD3184166@smtp1.free-mobile.fr>', 'Free'],\n",
       "       ['<cdf4cc3d0e21039c0ddeace496cee2a1@2d4a6334d2f2bb73c1c106ccaf5b5e83c5a47abe274260dadc6a33286199d452>',\n",
       "        'Business/Fb'],\n",
       "       ['<c0ce3382e5d5d87fcfd224d110f25503@2d4a6334d2f2bb73c1c106ccaf5b5e83c5a47abe274260dadc6a33286199d452>',\n",
       "        'Business/Fb'],\n",
       "       ['<1171154251.175085.1459877460512.JavaMail.weblogic@aglwl1>',\n",
       "        'Fac/Crous/Bourse'],\n",
       "       [nan, 'Business/Aliexpress/Paiement'],\n",
       "       ['<9c743debc97580d9249c24560fb0f3e9@2d4a6334d2f2bb73c1c106ccaf5b5e83c5a47abe274260dadc6a33286199d452>',\n",
       "        'Business/Fb'],\n",
       "       ['<414815093.94181.1522400443078.JavaMail.weblogic@aglwl3>',\n",
       "        'Fac/Crous/Bourse'],\n",
       "       ['<20160829162115.6FC93184AF0@smtp2.free-mobile.fr>', 'Free'],\n",
       "       ['<HE1PR0602MB2778C02FA35CB4915B3D695397C80@HE1PR0602MB2778.eurprd06.prod.outlook.com>',\n",
       "        'Business/1&1'],\n",
       "       [nan, 'Business/Aliexpress/Paiement'],\n",
       "       ['<20180709184218.C87C7183368@smtp1.free-mobile.fr>', 'Free'],\n",
       "       ['<671268154.1527044412987.JavaMail.root@hwi69cfe2intra1>',\n",
       "        'Business/Autoentrepreneur'],\n",
       "       ['<0100016300d50bfa-5a87ef45-329a-41c7-84ae-aacdfc6cc44c-000000@email.amazonses.com>',\n",
       "        'Cryptomonnaies'],\n",
       "       ['<5b755a3014db4_242ae08a74ef60891f2@shopify.com>',\n",
       "        'Business/Shopify'],\n",
       "       ['<5b682a84244fe_2a2acb62c1cf5c294a7@shopify.com>',\n",
       "        \"Business/Bag's Success\"],\n",
       "       ['<5c903849fc8580f77f2cff8d32ca824b@2d4a6334d2f2bb73c1c106ccaf5b5e83c5a47abe274260dadc6a33286199d452>',\n",
       "        'Business/Fb'],\n",
       "       ['<14696032.205.1450700834082.JavaMail.bea@galactica-new.in.ac-paris.fr>',\n",
       "        'Business/Autoentrepreneur'],\n",
       "       ['<29041269cbccd3ab520a94794f068088@2d4a6334d2f2bb73c1c106ccaf5b5e83c5a47abe274260dadc6a33286199d452>',\n",
       "        'INBOX'],\n",
       "       ['<7e7b38497bdd10938af7f565293ffd20@2d4a6334d2f2bb73c1c106ccaf5b5e83c5a47abe274260dadc6a33286199d452>',\n",
       "        'INBOX'],\n",
       "       ['<20171226182128.8C32D195DC2@smtp1.free-mobile.fr>', 'Free'],\n",
       "       ['<DUB131-W3303D4ECD0B91AFD9296AE97010@phx.gbl>', 'Free'],\n",
       "       ['<5c903849fc8580f77f2cff8d32ca824b@2d4a6334d2f2bb73c1c106ccaf5b5e83c5a47abe274260dadc6a33286199d452>',\n",
       "        'Business/Fb'],\n",
       "       [nan, 'Business/Aliexpress/Expédition'],\n",
       "       ['<HE1PR0602MB27789D818A97B3EF10CB53FA97C80@HE1PR0602MB2778.eurprd06.prod.outlook.com>',\n",
       "        'Business/1&1'],\n",
       "       ['<5af1a71313be1_f0ae3fdf980c72ec48820b1@jobs-01.mail>',\n",
       "        'Cryptomonnaies'],\n",
       "       ['<292ef3a52e56ac876d8f55ccb917546c@2d4a6334d2f2bb73c1c106ccaf5b5e83c5a47abe274260dadc6a33286199d452>',\n",
       "        'Business/Fb'],\n",
       "       ['<c1e6774f2e15075f11ab805d3e73756e@2d4a6334d2f2bb73c1c106ccaf5b5e83c5a47abe274260dadc6a33286199d452>',\n",
       "        'INBOX'],\n",
       "       ['<f5f124eaf4067601c3d2baab0a12d497@2d4a6334d2f2bb73c1c106ccaf5b5e83c5a47abe274260dadc6a33286199d452>',\n",
       "        'INBOX'],\n",
       "       ['<DUB131-W796DDA33C1E8AD28F423D197BB0@phx.gbl>', 'Free'],\n",
       "       [nan, 'Business/Aliexpress/Expédition']], dtype=object)"
      ]
     },
     "execution_count": 10,
     "metadata": {},
     "output_type": "execute_result"
    }
   ],
   "source": [
    "np.column_stack((X_test['Message-ID'], predicts))"
   ]
  },
  {
   "cell_type": "code",
   "execution_count": null,
   "metadata": {},
   "outputs": [],
   "source": []
  },
  {
   "cell_type": "code",
   "execution_count": null,
   "metadata": {},
   "outputs": [],
   "source": []
  }
 ],
 "metadata": {
  "kernelspec": {
   "display_name": "Python 3",
   "language": "python",
   "name": "python3"
  },
  "language_info": {
   "codemirror_mode": {
    "name": "ipython",
    "version": 3
   },
   "file_extension": ".py",
   "mimetype": "text/x-python",
   "name": "python",
   "nbconvert_exporter": "python",
   "pygments_lexer": "ipython3",
   "version": "3.7.0"
  }
 },
 "nbformat": 4,
 "nbformat_minor": 2
}
